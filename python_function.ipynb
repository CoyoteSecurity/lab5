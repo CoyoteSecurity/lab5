{
 "cells": [
  {
   "cell_type": "code",
   "execution_count": 1,
   "id": "f85b4475-5d1c-4b9b-9ef1-c128e7740944",
   "metadata": {
    "tags": []
   },
   "outputs": [
    {
     "name": "stdout",
     "output_type": "stream",
     "text": [
      "Hello, Alice! Welcome to Python.\n"
     ]
    }
   ],
   "source": [
    "# This is a simple python script with a personalized greeting function\n",
    "\n",
    "def personalized_greeting(name):\n",
    "    print(\"Hello, \" + name + \"! Welcome to Python.\")\n",
    "\n",
    "# Call the personalized_greeting function with a name argument\n",
    "personalized_greeting(\"Alice\")\n"
   ]
  },
  {
   "cell_type": "code",
   "execution_count": null,
   "id": "178979f8-32dd-49b2-8492-2aac2ec481b5",
   "metadata": {},
   "outputs": [],
   "source": []
  }
 ],
 "metadata": {
  "kernelspec": {
   "display_name": "Python 3 (ipykernel)",
   "language": "python",
   "name": "python3"
  },
  "language_info": {
   "codemirror_mode": {
    "name": "ipython",
    "version": 3
   },
   "file_extension": ".py",
   "mimetype": "text/x-python",
   "name": "python",
   "nbconvert_exporter": "python",
   "pygments_lexer": "ipython3",
   "version": "3.10.9"
  }
 },
 "nbformat": 4,
 "nbformat_minor": 5
}
