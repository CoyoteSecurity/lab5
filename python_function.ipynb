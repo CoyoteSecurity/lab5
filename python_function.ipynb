{
 "cells": [
  {
   "cell_type": "code",
   "execution_count": 1,
   "id": "f85b4475-5d1c-4b9b-9ef1-c128e7740944",
   "metadata": {
    "tags": []
   },
   "outputs": [
    {
     "name": "stdout",
     "output_type": "stream",
     "text": [
      "Hello, Alice! Welcome to Python.\n"
     ]
    }
   ],
   "source": [
    "# This is a simple python script with a personalized greeting function\n",
    "\n",
    "def personalized_greeting(name):\n",
    "    print(\"Hello, \" + name + \"! Welcome to Python.\")\n",
    "\n",
    "# Call the personalized_greeting function with a name argument\n",
    "personalized_greeting(\"Alice\")\n"
   ]
  },
  {
   "cell_type": "code",
   "execution_count": 3,
   "id": "178979f8-32dd-49b2-8492-2aac2ec481b5",
   "metadata": {},
   "outputs": [
    {
     "name": "stdin",
     "output_type": "stream",
     "text": [
      "What is your name?  David\n"
     ]
    },
    {
     "name": "stdout",
     "output_type": "stream",
     "text": [
      "Hello, David! Welcome to Python.\n"
     ]
    }
   ],
   "source": [
    "# This is a simple python script that prompts the user for their name and returns a personalized greeting\n",
    "\n",
    "def personalized_greeting(name):\n",
    "    return \"Hello, \" + name + \"! Welcome to Python.\"\n",
    "\n",
    "# Prompt the user for their name\n",
    "name = input(\"What is your name? \")\n",
    "\n",
    "# Call the personalized_greeting function with the user's name as an argument\n",
    "greeting = personalized_greeting(name)\n",
    "\n",
    "# Print the greeting\n",
    "print(greeting)\n"
   ]
  },
  {
   "cell_type": "code",
   "execution_count": null,
   "id": "8b4988c3-75e1-4a26-9e3f-228735a92f73",
   "metadata": {},
   "outputs": [],
   "source": []
  }
 ],
 "metadata": {
  "kernelspec": {
   "display_name": "Python 3 (ipykernel)",
   "language": "python",
   "name": "python3"
  },
  "language_info": {
   "codemirror_mode": {
    "name": "ipython",
    "version": 3
   },
   "file_extension": ".py",
   "mimetype": "text/x-python",
   "name": "python",
   "nbconvert_exporter": "python",
   "pygments_lexer": "ipython3",
   "version": "3.10.9"
  }
 },
 "nbformat": 4,
 "nbformat_minor": 5
}
